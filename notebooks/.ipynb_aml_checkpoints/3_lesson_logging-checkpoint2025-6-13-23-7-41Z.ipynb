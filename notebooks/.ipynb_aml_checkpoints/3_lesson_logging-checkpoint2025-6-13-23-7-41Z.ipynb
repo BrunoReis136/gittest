{
  "cells": [
    {
      "cell_type": "code",
      "source": [
        "import logging\n",
        "\n",
        "# Configura registro em um arquivo\n",
        "logging.basicConfig(filename=\"ml_pipeline.log\", level=logging.INFO)\n",
        "\n",
        "# Exemplo de mensagem registro\n",
        "logging.info(\"Logging setup complete.\")"
      ],
      "outputs": [],
      "execution_count": null,
      "metadata": {}
    }
  ],
  "metadata": {
    "kernelspec": {
      "display_name": "Python 3.10 - SDK v2",
      "language": "python",
      "name": "python310-sdkv2"
    },
    "language_info": {
      "codemirror_mode": {
        "name": "ipython",
        "version": 3
      },
      "file_extension": ".py",
      "mimetype": "text/x-python",
      "name": "python",
      "nbconvert_exporter": "python",
      "pygments_lexer": "ipython3",
      "version": "3.10.6"
    },
    "nteract": {
      "version": "nteract-front-end@1.0.0"
    }
  },
  "nbformat": 4,
  "nbformat_minor": 2
}