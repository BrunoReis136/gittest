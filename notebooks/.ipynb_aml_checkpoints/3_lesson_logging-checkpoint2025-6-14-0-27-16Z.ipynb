{
  "cells": [
    {
      "cell_type": "code",
      "source": [
        "import logging\n",
        "from azureml.core import Workspace, Dataset\n",
        "import pandas as pd\n",
        "from sklearn.model_selection import train_test_split\n",
        "\n",
        "# Configura registro em um arquivo\n",
        "logging.basicConfig(filename=\"ml_pipeline.log\", level=logging.INFO)\n",
        "\n",
        "# Exemplo de mensagem registro\n",
        "logging.info(\"Logging setup complete.\")\n",
        "\n",
        "\n",
        "# Logging (registro) de início de carregamento de dados\n",
        "logging.info(\"Carregando o dataset\")\n",
        "\n",
        "\n",
        "# Logging de carregamento do Dataset em Dataframe Pandas\n",
        "ws = Workspace.from_config()\n",
        "dataset = Dataset.get_by_name(ws,'credit_card_fraud')\n",
        "df = dataset.to_pandas_dataframe()\n",
        "logging.info(\"Dataset carretgado com sucesso\")\n",
        "\n",
        "# Logging de início do preprocessamento\n",
        "logging.info(\"Começão do pré processamento dos dados\")\n",
        "\n",
        "# Limpando dados\n",
        "df.fillna(0,inplace=True)\n",
        "logging.info(\"Dados completados\")\n",
        "\n",
        "# Dividindo dataset em dados de treino de teste\n",
        "X = df.drop('Class',axis=1)\n",
        "y = df['Class']\n",
        "X_train, X_test, y_train, y_test = train_test_split(X,y,train_size=0.8)\n",
        "logging.info(\"Dataset dividido com sucesso para treino e teste.\")\n",
        "\n",
        "# Registro da conclusão\n",
        "logging.info(\"Preprocessamento concluído\")\n"
      ],
      "outputs": [],
      "execution_count": null,
      "metadata": {
        "gather": {
          "logged": 1752449725925
        }
      }
    },
    {
      "cell_type": "code",
      "source": [
        "from sklearn.tree import DecisionTreeClassifier\n",
        "\n",
        "# Registro de inicio de treinamento\n",
        "logging.info(\"Iniciando o treinamento do modelo...\")\n"
      ],
      "outputs": [],
      "execution_count": null,
      "metadata": {}
    }
  ],
  "metadata": {
    "kernelspec": {
      "name": "python38-azureml",
      "language": "python",
      "display_name": "Python 3.10 - AzureML"
    },
    "language_info": {
      "name": "python",
      "version": "3.10.11",
      "mimetype": "text/x-python",
      "codemirror_mode": {
        "name": "ipython",
        "version": 3
      },
      "pygments_lexer": "ipython3",
      "nbconvert_exporter": "python",
      "file_extension": ".py"
    },
    "kernel_info": {
      "name": "python38-azureml"
    },
    "nteract": {
      "version": "nteract-front-end@1.0.0"
    }
  },
  "nbformat": 4,
  "nbformat_minor": 2
}