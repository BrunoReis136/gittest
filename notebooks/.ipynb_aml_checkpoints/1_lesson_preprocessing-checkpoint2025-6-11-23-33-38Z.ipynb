{
  "cells": [
    {
      "cell_type": "code",
      "source": [
        "import pandas as pd\n",
        "import numpy as np\n",
        "from sklearn.preprocessing import StandartScaler\n",
        "from sklearn. model_selection import train_test_split\n",
        "from scipy import stats\n",
        "\n",
        "\n",
        "# Cria Dataset com amostras aleatórias\n",
        "np.random.seed(42)\n",
        "n_samples = 100\n",
        "data = {\n",
        "    'income' : np.random.normal(50000, 15000, n_samples),\n",
        "    'credit_score': np.random.normal(650, 50, n_samples),\n",
        "    'job_title': np.random.choice(['Engineer', 'Teacher', 'Doctor', 'Artist'], n_samples),\n",
        "    'target': np.random.choice([0,1],n_samples)\n",
        "}\n",
        "\n"
      ],
      "outputs": [],
      "execution_count": null,
      "metadata": {}
    }
  ],
  "metadata": {
    "kernelspec": {
      "display_name": "Python 3.10 - SDK v2",
      "language": "python",
      "name": "python310-sdkv2"
    },
    "language_info": {
      "codemirror_mode": {
        "name": "ipython",
        "version": 3
      },
      "file_extension": ".py",
      "mimetype": "text/x-python",
      "name": "python",
      "nbconvert_exporter": "python",
      "pygments_lexer": "ipython3",
      "version": "3.10.6"
    },
    "nteract": {
      "version": "nteract-front-end@1.0.0"
    }
  },
  "nbformat": 4,
  "nbformat_minor": 2
}