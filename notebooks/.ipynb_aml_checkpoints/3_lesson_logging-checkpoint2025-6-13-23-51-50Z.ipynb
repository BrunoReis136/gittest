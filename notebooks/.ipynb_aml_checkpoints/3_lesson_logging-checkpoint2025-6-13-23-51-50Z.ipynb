{
  "cells": [
    {
      "cell_type": "code",
      "source": [
        "import logging\n",
        "from azureml.core import Workspace, Dataset\n",
        "import pandas as pd\n",
        "\n",
        "# Configura registro em um arquivo\n",
        "logging.basicConfig(filename=\"ml_pipeline.log\", level=logging.INFO)\n",
        "\n",
        "# Exemplo de mensagem registro\n",
        "logging.info(\"Logging setup complete.\")\n",
        "\n",
        "\n",
        "# Logging (registro) de início de carregamento de dados\n",
        "logging.info(\"Carregando o dataset\")\n",
        "\n",
        "\n",
        "# Logging de carregamento do Dataset em Dataframe Pandas\n",
        "ws = Workspace.from_config()\n",
        "dataset = Dataset.get_by_name(ws,'credit_card_fraud')\n",
        "df = dataset.to_pandas_dataframe()\n",
        "logging.info(\"Dataset carretgado com sucesso\")\n",
        "\n",
        "# Logging de início do preprocessamento\n",
        "logging.info(\"Começão do pré processamento dos dados\")\n",
        "\n",
        "# Limpando dados\n",
        "df.fillna(0,inplace=True)\n",
        "logging.info(\"Dados completados\")\n",
        "\n",
        "# Registro da conclusão\n",
        "logging.info(\"Preprocessamento concluído\")\n",
        "\n",
        "print(df.head())"
      ],
      "outputs": [
        {
          "output_type": "stream",
          "name": "stdout",
          "text": "{'infer_column_types': 'False', 'activity': 'to_pandas_dataframe'}\n{'infer_column_types': 'False', 'activity': 'to_pandas_dataframe', 'activityApp': 'TabularDataset'}\n   Column1  Time        V1        V2        V3        V4        V5        V6  \\\n0        0   0.0 -1.359807 -0.072781  2.536347  1.378155 -0.338321  0.462388   \n1        1   0.0  1.191857  0.266151  0.166480  0.448154  0.060018 -0.082361   \n2        2   1.0 -1.358354 -1.340163  1.773209  0.379780 -0.503198  1.800499   \n3        3   1.0 -0.966272 -0.185226  1.792993 -0.863291 -0.010309  1.247203   \n4        4   2.0 -1.158233  0.877737  1.548718  0.403034 -0.407193  0.095921   \n\n         V7        V8  ...       V21       V22       V23       V24       V25  \\\n0  0.239599  0.098698  ... -0.018307  0.277838 -0.110474  0.066928  0.128539   \n1 -0.078803  0.085102  ... -0.225775 -0.638672  0.101288 -0.339846  0.167170   \n2  0.791461  0.247676  ...  0.247998  0.771679  0.909412 -0.689281 -0.327642   \n3  0.237609  0.377436  ... -0.108300  0.005274 -0.190321 -1.175575  0.647376   \n4  0.592941 -0.270533  ... -0.009431  0.798278 -0.137458  0.141267 -0.206010   \n\n        V26       V27       V28  Amount  Class  \n0 -0.189115  0.133558 -0.021053  149.62      0  \n1  0.125895 -0.008983  0.014724    2.69      0  \n2 -0.139097 -0.055353 -0.059752  378.66      0  \n3 -0.221929  0.062723  0.061458  123.50      0  \n4  0.502292  0.219422  0.215153   69.99      0  \n\n[5 rows x 32 columns]\n"
        }
      ],
      "execution_count": 2,
      "metadata": {
        "gather": {
          "logged": 1752449725925
        }
      }
    }
  ],
  "metadata": {
    "kernelspec": {
      "name": "python38-azureml",
      "language": "python",
      "display_name": "Python 3.10 - AzureML"
    },
    "language_info": {
      "name": "python",
      "version": "3.10.11",
      "mimetype": "text/x-python",
      "codemirror_mode": {
        "name": "ipython",
        "version": 3
      },
      "pygments_lexer": "ipython3",
      "nbconvert_exporter": "python",
      "file_extension": ".py"
    },
    "kernel_info": {
      "name": "python38-azureml"
    },
    "nteract": {
      "version": "nteract-front-end@1.0.0"
    }
  },
  "nbformat": 4,
  "nbformat_minor": 2
}