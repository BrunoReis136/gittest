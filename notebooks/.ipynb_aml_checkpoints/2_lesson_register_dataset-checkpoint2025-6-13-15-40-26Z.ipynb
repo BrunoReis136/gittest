{
  "cells": [
    {
      "cell_type": "code",
      "source": [
        "from azureml.core import Dataset\n",
        "from azureml.core import Workspace\n",
        "\n",
        "import pandas as pd\n",
        "from io import StringIO\n",
        "\n",
        "# Conecta ao Azure ML Workspace\n",
        "workspace = Workspace.from_config()\n",
        "\n",
        "# Registra um dataset\n",
        "datastore = workspace.get_default_datastore()\n",
        "\n",
        "# Cria um dataset demonstrativo\n",
        "data = \"\"\"Age,income,target\n",
        "25,50000,0\n",
        "30,60000,1\n",
        "35,55000,0\n",
        "40,65000,1\"\"\"\n",
        "\n",
        "dataset_file = StringIO(data)\n",
        "\n",
        "# Salvar o dataset localmente e subir para o datastore(armazenamento de dados)\n",
        "df = pd.read_csv(dataset_file)\n",
        "df.to_csv(\"training_data.csv\",index=False)\n",
        "\n",
        "datastore.upload_files(\n",
        "    [\"training_data.csv\"],\n",
        "    target_path=\"data/\",\n",
        "    overwrite=True\n",
        ")\n",
        "\n",
        "dataset = Dataset.Tabular.from_delimited_files(path=(datastore, 'data/training_data.csv'))\n",
        "dataset = dataset.register(workspace=workspace, name='training_dataset', create_new_version=True)\n",
        "print(\"Dataset registered successfully.\")"
      ],
      "outputs": [
        {
          "output_type": "stream",
          "name": "stderr",
          "text": "\"datastore.upload_files\" is deprecated after version 1.0.69. Please use \"FileDatasetFactory.upload_directory\" instead. See Dataset API change notice at https://aka.ms/dataset-deprecation.\n"
        },
        {
          "output_type": "stream",
          "name": "stdout",
          "text": "Uploading an estimated of 1 files\nUploading training_data.csv\nUploaded training_data.csv, 1 files out of an estimated total of 1\nUploaded 1 files\nDataset registered successfully.\n"
        }
      ],
      "execution_count": 1,
      "metadata": {
        "gather": {
          "logged": 1752368294490
        }
      }
    },
    {
      "cell_type": "code",
      "source": [
        "from azureml.core import ScriptRunConfig, Experiment\n",
        "\n",
        "from azureml.core import Environment\n",
        "from azureml.core.conda_dependencies import CondaDependencies\n",
        "from azureml.core.compute import ComputeTarget\n",
        "\n",
        "# Cria um ambiente customizado\n",
        "env = Environment(name='custom_environment')\n",
        "dependencies = CondaDependencies.create(\n",
        "    conda_packages = ['scikit-learn','pandas','numpy','joblib'],\n",
        "    pip_packages = ['azureml-sdk'] # Adiciona um pip se necessário\n",
        "    )\n",
        "env.python.conda_dependencies = dependencies\n",
        "\n",
        "# Registrar ambiente virtual (environment)\n",
        "env.register(workspace=workspace)\n",
        "print(\"Enviroment registered successfully\")\n",
        "\n",
        "# Define a instância computacional\n",
        "compute_target = ComputeTarget(workspace=workspace, name='train-cluster')\n",
        "\n",
        "# Define treinamento, script e configuração\n",
        "# Especifica diretório contendo o script de treinamento e instância em que será treinado\n",
        "# O objeto ScriptRunConfig é usado pra encapsular as configurações de treinamento, incluindo argumentos de script\n",
        "src=ScriptRunConfig(\n",
        "    source_directory='.',\n",
        "    script='2_lesson_train.py',\n",
        "    compute_target=compute_target,\n",
        "    arguments=['--input_data', dataset.as_named_input('training_data')],\n",
        "    environment=env\n",
        ")\n",
        "\n",
        "# Passa o dataset como um argumento para o script\n",
        "\n",
        "# Submete o experimento\n",
        "# Um 'Experiment' em Azura ML é um container para rodar todos seus treinamentos\n",
        "experiment = Experiment(workspace, name='training_experiment')\n",
        "run = experiment.submit(config=src) # Submete a execução do experimento no computador alvo especificado\n",
        "run.wait_for_completion(show_output=True) # Espera a conclusão do treinamento para mostrar a saída"
      ],
      "outputs": [
        {
          "output_type": "stream",
          "name": "stderr",
          "text": "WARNING:root:You might see network latency and increased data transfer costs if you chose a cluster in a location different from the location of your workspace\n"
        },
        {
          "output_type": "stream",
          "name": "stdout",
          "text": "RunId: training_experiment_1752368294_ebdeaadc\nWeb View: https://ml.azure.com/runs/training_experiment_1752368294_ebdeaadc?wsid=/subscriptions/4630e05e-ec4c-4dee-bc01-bdb40067df0e/resourcegroups/bruhreis136-rg/workspaces/modulo1&tid=c8b61e8d-069e-4975-b112-adab88d33beb\n"
        }
      ],
      "execution_count": null,
      "metadata": {
        "gather": {
          "logged": 1752368435338
        }
      }
    },
    {
      "cell_type": "code",
      "source": [],
      "outputs": [],
      "execution_count": null,
      "metadata": {}
    }
  ],
  "metadata": {
    "kernelspec": {
      "name": "python38-azureml",
      "language": "python",
      "display_name": "Python 3.10 - AzureML"
    },
    "language_info": {
      "name": "python",
      "version": "3.10.11",
      "mimetype": "text/x-python",
      "codemirror_mode": {
        "name": "ipython",
        "version": 3
      },
      "pygments_lexer": "ipython3",
      "nbconvert_exporter": "python",
      "file_extension": ".py"
    },
    "nteract": {
      "version": "nteract-front-end@1.0.0"
    },
    "kernel_info": {
      "name": "python38-azureml"
    },
    "microsoft": {
      "host": {
        "AzureML": {
          "notebookHasBeenCompleted": true
        }
      }
    }
  },
  "nbformat": 4,
  "nbformat_minor": 2
}