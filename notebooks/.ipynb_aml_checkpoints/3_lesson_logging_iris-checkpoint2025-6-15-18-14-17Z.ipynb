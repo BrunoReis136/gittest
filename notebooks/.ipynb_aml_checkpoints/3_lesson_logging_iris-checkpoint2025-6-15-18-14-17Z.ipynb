{
  "cells": [
    {
      "cell_type": "code",
      "source": [
        "import logging\n",
        "\n",
        "logging.basicConfig(filename=\"logging_iris.log\",\n",
        "    filemode='w',\n",
        "    level=logging.INFO,\n",
        "    format=\"%(asctime)s - %(levelname)s - %(message)s\"\n",
        ")\n",
        "\n",
        "logging.info(\"Configuração dos registros realizada. Iniciando os registros..\")"
      ],
      "outputs": [],
      "execution_count": null,
      "metadata": {}
    },
    {
      "cell_type": "code",
      "source": [
        "import pandas as pd\n",
        "from sklearn.datasets import load_iris\n",
        "\n",
        "logging.info(\"Carregando dataset iris...\")\n",
        "\n",
        "data = load_iris()\n",
        "df = pd.DataFrame(data.data, columns = data.feature_names)\n",
        "\n",
        "df['target'] = data.target\n",
        "\n",
        "logging.info(\"Dataset iris carregado com sucesso!\")\n",
        "\n",
        "logging.info(\"Começando pré processamento...\")\n",
        "\n",
        "df.fillna(0, inplace=True)\n",
        "logging.info(\"Conferidos valores ausentes no dataset. Nenhum encontrado no dataset Iris.\")\n",
        "\n",
        "logging.info(\"Pre processamento de dados completo.\")"
      ],
      "outputs": [],
      "execution_count": null,
      "metadata": {}
    },
    {
      "cell_type": "code",
      "source": [
        "from sklearn.tree import DecisionTreeClassifier\n",
        "from sklearn.model_selection import train_test_split\n",
        "\n",
        "X = df.drop('target', axis=1)\n",
        "y = df['target']\n",
        "X_train, X_test, y_train, y_test = train_test_split(X, y, test_size = 0.2, random_state=42)\n",
        "\n",
        "logging.info(\"Começando treino do modelo...\")\n",
        "\n",
        "try:\n",
        "    model = DecisionTreeClassifier()\n",
        "    model.fit(X_train,y_train)\n",
        "    logging.info(\"Treino realizado com sucesso.\")\n",
        "except:\n",
        "    logging.error(\"Falha ao treinar modelo.\")\n",
        "\n",
        "accuracy_train = model.score(X_train,y_train)\n",
        "logging.info(f\"Precisão do treino: {accuracy_train:.2f}\")"
      ],
      "outputs": [],
      "execution_count": null,
      "metadata": {}
    },
    {
      "cell_type": "code",
      "source": [
        "logging.info(\"Começando previsões do modelo...\")\n",
        "\n",
        "try:\n",
        "    predictions = model.predict(X_test)\n",
        "    logging.info(\"Previsões feitas com sucesso.\")\n",
        "except:\n",
        "    logging.error(\"Falha ao fazer previsões.\")\n",
        "\n",
        "logging.info(f\"Amostras de previsões:{predictions[:5]}\")\n"
      ],
      "outputs": [],
      "execution_count": null,
      "metadata": {}
    }
  ],
  "metadata": {
    "kernelspec": {
      "display_name": "Python 3.10 - SDK v2",
      "language": "python",
      "name": "python310-sdkv2"
    },
    "language_info": {
      "codemirror_mode": {
        "name": "ipython",
        "version": 3
      },
      "file_extension": ".py",
      "mimetype": "text/x-python",
      "name": "python",
      "nbconvert_exporter": "python",
      "pygments_lexer": "ipython3",
      "version": "3.10.6"
    },
    "nteract": {
      "version": "nteract-front-end@1.0.0"
    }
  },
  "nbformat": 4,
  "nbformat_minor": 2
}