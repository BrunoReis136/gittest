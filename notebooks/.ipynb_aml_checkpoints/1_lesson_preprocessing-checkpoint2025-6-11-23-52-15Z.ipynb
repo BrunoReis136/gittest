{
  "cells": [
    {
      "cell_type": "code",
      "source": [
        "import pandas as pd\n",
        "import numpy as np\n",
        "from sklearn.preprocessing import StandardScaler\n",
        "from sklearn. model_selection import train_test_split\n",
        "from scipy import stats\n",
        "\n",
        "\n",
        "# Cria Dataset com amostras aleatórias\n",
        "np.random.seed(42)\n",
        "n_samples = 100\n",
        "data = {\n",
        "    'income' : np.random.normal(50000, 15000, n_samples),\n",
        "    'credit_score': np.random.normal(650, 50, n_samples),\n",
        "    'job_title': np.random.choice(['Engineer', 'Teacher', 'Doctor', 'Artist'], n_samples),\n",
        "    'target': np.random.choice([0,1],n_samples)\n",
        "}\n",
        "\n",
        "# Introduzir valores nulos e discrepâncias para teste\n",
        "data['income'][np.random.randint(0, n_samples, 5)] = np.nan\n",
        "data['credit_score'][np.random.randint(0, n_samples, 3)] = np.nan\n",
        "data['income'][np.random.randint(0, n_samples, 2)] = 150000 # Discrepâncias\n",
        "df = pd.Dataframe(data)\n",
        "\n",
        "# Separa as colunas com numeros (inteiros ou decimais) e preenche os valores nulos com a mediana\n",
        "for column in df.select_dtypes(include=['float64','int64']).columns:\n",
        "    df[column].fillna(df[column].median(), inplace = True)\n",
        "\n",
        "# Elimina as linhas com valores duplicados\n",
        "df.drop_duplicates(inplace=True)\n",
        "\n",
        "# Padroniza recursos numéricos para garantir uniformidade entre os recursos\n",
        "scaler = StandardScaler()\n",
        "numeric_features = df.select_dtypes(include=['float64','int64'])\n"
      ],
      "outputs": [],
      "execution_count": null,
      "metadata": {}
    }
  ],
  "metadata": {
    "kernelspec": {
      "display_name": "Python 3.10 - SDK v2",
      "language": "python",
      "name": "python310-sdkv2"
    },
    "language_info": {
      "codemirror_mode": {
        "name": "ipython",
        "version": 3
      },
      "file_extension": ".py",
      "mimetype": "text/x-python",
      "name": "python",
      "nbconvert_exporter": "python",
      "pygments_lexer": "ipython3",
      "version": "3.10.6"
    },
    "nteract": {
      "version": "nteract-front-end@1.0.0"
    }
  },
  "nbformat": 4,
  "nbformat_minor": 2
}