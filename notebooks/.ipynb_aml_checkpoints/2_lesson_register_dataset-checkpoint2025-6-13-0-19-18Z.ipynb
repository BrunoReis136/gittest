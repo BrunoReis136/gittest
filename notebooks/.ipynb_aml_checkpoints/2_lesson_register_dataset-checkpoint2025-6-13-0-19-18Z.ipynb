{
  "cells": [
    {
      "cell_type": "code",
      "source": [
        "from azureml.core import Dataset\n",
        "from azureml.core import Workspace\n",
        "\n",
        "import pandas as pd\n",
        "from io import StringIO\n",
        "\n",
        "# Conecta ao Azure ML Workspace\n",
        "workspace = Workspace.from_config()\n",
        "\n",
        "# Registra um dataset\n",
        "datastore = workspace.get_default_datastore()\n",
        "\n",
        "# Cria um dataset demonstrativo\n",
        "data = \"\"\"Age,income,target\n",
        "25,50000,0\n",
        "30,60000,1\n",
        "35,55000,0\n",
        "40,65000,1\"\"\"\n",
        "\n",
        "dataset_file = StringIO(data)\n",
        "\n",
        "# Salvar o dataset localmente e subir para o datastore(armazenamento de dados)\n",
        "df = pd.read_csv(dataset_file)\n",
        "df.to_csv(\"training_data.csv\",index=False)\n",
        "\n",
        "datastore.upload_files(\n",
        "    [\"training_data.csv\"],\n",
        "    target_path=\"data/\",\n",
        "    overwrite=True\n",
        ")\n",
        "\n",
        "dataset = Dataset.Tabular.from_delimited_files(path=(datastore, 'data/training_data.csv'))\n",
        "dataset = dataset.register(workspace=workspace, name='training_dataset', create_new_version=True)\n",
        "print(\"Dataset registered successfully.\")"
      ],
      "outputs": [
        {
          "output_type": "stream",
          "name": "stdout",
          "text": "Uploading an estimated of 1 files\nUploading training_data.csv\nUploaded training_data.csv, 1 files out of an estimated total of 1\nUploaded 1 files\nDataset registered successfully.\n"
        }
      ],
      "execution_count": 1,
      "metadata": {
        "gather": {
          "logged": 1752352929682
        }
      }
    },
    {
      "cell_type": "code",
      "source": [
        "from azureml.core import ScriptRunConfig, Experiment\n",
        "\n",
        "from azureml.core import Environment\n",
        "from azureml.core.conda_dependencies import CondaDependencies\n",
        "from azureml.core.compute import ComputeTarget\n",
        "\n",
        "# Cria um ambiente customizado\n",
        "env = Environment(name='custom_environment')\n",
        "dependencies = CondaDependencies.create(\n",
        "    conda_packages = ['scikit-learn','pandas','numpy','joblib'],\n",
        "    pip_packages = ['azume-sdk'] # Adiciona um pip se necessário\n",
        "    )\n",
        "env.python.conda_dependencies = dependencies\n",
        "\n",
        "# Registrar ambiente virtual (environment)\n",
        "env.register(workspace=workspace)\n",
        "print(\"Enviroment registered successfully\")\n",
        "\n",
        "# Define a instância computacional\n",
        "compute_target = ComputeTarget(workspace=workspace, name='D4S-V3-2024-10-30-a')\n",
        "\n",
        "# Define treinamento, script e configuração\n",
        "# Especifica diretório contendo o script de treinamento e instância em que será treinado\n",
        "# O objeto ScriptRunConfig é usado pra encapsular as configurações de treinamento, incluindo argumentos de script\n",
        "src=ScriptRunConfig(\n",
        "    source_directory='scripts',\n",
        "    script='train.py',\n",
        "    compute_target=compute_target,\n",
        "    arguments=['--input_data', dataset.as_named_input('training_data')],\n",
        "    environment=env\n",
        ")\n",
        "\n",
        "# Passa o dataset como um argumento para o script\n",
        "\n",
        "# Submete o experimento\n",
        "# Um 'Experiment' em Azura ML é um container para rodar todos seus treinamentos\n",
        "experiment = Experiment(workspace, name='training_experiment')\n",
        "run = experiment.submit(config=src) # Submete a execução do experimento no computador alvo especificado\n",
        "run.wait_for_completion(show_output=True) # Espera a conclusão do treinamento para mostrar a saída"
      ],
      "outputs": [],
      "execution_count": null,
      "metadata": {}
    }
  ],
  "metadata": {
    "kernelspec": {
      "name": "python38-azureml",
      "language": "python",
      "display_name": "Python 3.10 - AzureML"
    },
    "language_info": {
      "name": "python",
      "version": "3.10.11",
      "mimetype": "text/x-python",
      "codemirror_mode": {
        "name": "ipython",
        "version": 3
      },
      "pygments_lexer": "ipython3",
      "nbconvert_exporter": "python",
      "file_extension": ".py"
    },
    "nteract": {
      "version": "nteract-front-end@1.0.0"
    },
    "kernel_info": {
      "name": "python38-azureml"
    },
    "microsoft": {
      "host": {
        "AzureML": {
          "notebookHasBeenCompleted": true
        }
      }
    }
  },
  "nbformat": 4,
  "nbformat_minor": 2
}